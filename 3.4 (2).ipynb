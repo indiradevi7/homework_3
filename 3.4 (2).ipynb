{
 "cells": [
  {
   "cell_type": "markdown",
   "id": "ab06c03d",
   "metadata": {},
   "source": [
    "# 3.4"
   ]
  },
  {
   "cell_type": "code",
   "execution_count": 1,
   "id": "f72d097e",
   "metadata": {},
   "outputs": [
    {
     "name": "stdout",
     "output_type": "stream",
     "text": [
      "Problem Size          Calls\n",
      "           2              1\n",
      "           4              5\n",
      "           8             41\n",
      "          16           1973\n",
      "          32        4356617\n"
     ]
    }
   ],
   "source": [
    "class Counter:\n",
    "    def __init__(self):\n",
    "        self.count = 0\n",
    "\n",
    "    def increment(self):\n",
    "        self.count += 1\n",
    "def fib(n, counter):\n",
    "    # Count the number of calls of the Fibonacci function\n",
    "    counter.increment()\n",
    "\n",
    "    if n < 3:\n",
    "        return 1\n",
    "    else:\n",
    "        return fib(n - 1, counter) + fib(n - 2, counter)\n",
    "problemSize = 2\n",
    "print(\"%12s%15s\" % (\"Problem Size\", \"Calls\"))\n",
    "for count in range(5):\n",
    "    counter = Counter()\n",
    "    # The start of the algorithm\n",
    "    fib(problemSize, counter)\n",
    "    # The end of the algorithm\n",
    "    print(\"%12d%15d\" % (problemSize, counter.count))\n",
    "    problemSize *= 2\n"
   ]
  }
 ],
 "metadata": {
  "kernelspec": {
   "display_name": "Python 3 (ipykernel)",
   "language": "python",
   "name": "python3"
  },
  "language_info": {
   "codemirror_mode": {
    "name": "ipython",
    "version": 3
   },
   "file_extension": ".py",
   "mimetype": "text/x-python",
   "name": "python",
   "nbconvert_exporter": "python",
   "pygments_lexer": "ipython3",
   "version": "3.9.6"
  }
 },
 "nbformat": 4,
 "nbformat_minor": 5
}
