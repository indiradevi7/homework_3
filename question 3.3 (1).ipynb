{
 "cells": [
  {
   "cell_type": "markdown",
   "id": "d3948f9c",
   "metadata": {},
   "source": [
    "# 3.3Counting Instructions"
   ]
  },
  {
   "cell_type": "code",
   "execution_count": 1,
   "id": "f806e16f",
   "metadata": {},
   "outputs": [
    {
     "name": "stdout",
     "output_type": "stream",
     "text": [
      "Problem Size     Iterations\n",
      "        1000        1000000\n",
      "        2000        4000000\n",
      "        4000       16000000\n",
      "        8000       64000000\n",
      "       16000      256000000\n"
     ]
    }
   ],
   "source": [
    "\"\"\"\n",
    "File: counting.py\n",
    "Prints the number of iterations for problem sizes\n",
    "that double, using a nested loop.\n",
    "\"\"\"\n",
    "problemSize = 1000\n",
    "print(\"%12s%15s\" % (\"Problem Size\", \"Iterations\"))\n",
    "for count in range(5):\n",
    "     number = 0\n",
    " # The start of the algorithm\n",
    "     work = 1\n",
    "     for j in range(problemSize):\n",
    "        for k in range(problemSize):\n",
    "         number += 1\n",
    "         work += 1\n",
    "         work -= 1\n",
    " # The end of the algorithm\n",
    "     print(\"%12d%15d\" % (problemSize, number))\n",
    "     problemSize *= 2"
   ]
  },
  {
   "cell_type": "markdown",
   "id": "e2f2bdff",
   "metadata": {},
   "source": [
    "# The output of a tester program that counts iterations\n"
   ]
  }
 ],
 "metadata": {
  "kernelspec": {
   "display_name": "Python 3 (ipykernel)",
   "language": "python",
   "name": "python3"
  },
  "language_info": {
   "codemirror_mode": {
    "name": "ipython",
    "version": 3
   },
   "file_extension": ".py",
   "mimetype": "text/x-python",
   "name": "python",
   "nbconvert_exporter": "python",
   "pygments_lexer": "ipython3",
   "version": "3.9.6"
  }
 },
 "nbformat": 4,
 "nbformat_minor": 5
}
