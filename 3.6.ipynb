{
 "cells": [
  {
   "cell_type": "markdown",
   "id": "dbbbe231",
   "metadata": {},
   "source": [
    "# 3.6"
   ]
  },
  {
   "cell_type": "code",
   "execution_count": 1,
   "id": "785ad397",
   "metadata": {},
   "outputs": [],
   "source": [
    "def indexOfMin(lyst):\n",
    "    \"\"\"Returns the index of the minimum item.\"\"\"\n",
    "    minIndex = 0\n",
    "    currentIndex = 1\n",
    "    while currentIndex < len(lyst):\n",
    "        if lyst[currentIndex] < lyst[minIndex]:\n",
    "            minIndex = currentIndex\n",
    "        currentIndex += 1\n",
    "    return minIndex"
   ]
  },
  {
   "cell_type": "code",
   "execution_count": 2,
   "id": "7ee52c17",
   "metadata": {},
   "outputs": [],
   "source": [
    "def sequentialSearch(target, lyst):\n",
    "     \"\"\"Returns the position of the target item if found,\n",
    "     or -1 otherwise.\"\"\"\n",
    "     position = 0\n",
    "     while position < len(lyst):\n",
    "        if target == lyst[position]:\n",
    "             return position\n",
    "        position += 1\n",
    "        return - 1"
   ]
  },
  {
   "cell_type": "code",
   "execution_count": 3,
   "id": "784c318a",
   "metadata": {},
   "outputs": [],
   "source": [
    "def binarySearch(target, sortedLyst):\n",
    "    left = 0\n",
    "    right = len(sortedLyst) - 1\n",
    "    while left <= right:\n",
    "        midpoint = (left + right) // 2\n",
    "        if target > sortedLyst[midpoint]:\n",
    "            return midpoint\n",
    "        elif target < sortedLyst[midpoint]:\n",
    "            right = midpoint - 1\n",
    "        else:\n",
    "            left = midpoint + 1\n",
    "    return -1"
   ]
  },
  {
   "cell_type": "code",
   "execution_count": 50,
   "id": "083ff1ae",
   "metadata": {},
   "outputs": [],
   "source": [
    "class SavingsAccount(object):\n",
    "    \"\"\"This class represents a savings account\n",
    "    with the owner’s name, PIN, and balance.\"\"\"\n",
    "    def __init__(self, name, pin, balance = 0.0):\n",
    "        self.name = name\n",
    "        self.pin = pin\n",
    "        self.balance = balance\n",
    "    def __lt__(self, other):\n",
    "        return self.name < other.name"
   ]
  },
  {
   "cell_type": "code",
   "execution_count": 51,
   "id": "f2e056e9",
   "metadata": {},
   "outputs": [
    {
     "data": {
      "text/plain": [
       "True"
      ]
     },
     "execution_count": 51,
     "metadata": {},
     "output_type": "execute_result"
    }
   ],
   "source": [
    ">>> s1 = SavingsAccount(\"Ken\", \"1000\", 0)\n",
    ">>> s2 = SavingsAccount(\"Bill\", \"1001\", 30)\n",
    ">>> s1 < s2\n",
    "False\n",
    ">>> s2 < s1\n",
    "True\n",
    ">>> s1 > s2\n",
    "True\n",
    ">>> s2 > s1\n",
    "False\n",
    ">>> s2 == s1\n",
    "False\n",
    ">>> s3 = SavingsAccount(\"Ken\", \"1000\", 0)\n",
    ">>> s1 == s3\n",
    "True\n",
    ">>> s4 = s1\n",
    ">>> s4 == s1\n",
    "True"
   ]
  },
  {
   "cell_type": "code",
   "execution_count": 4,
   "id": "804a3b49",
   "metadata": {},
   "outputs": [],
   "source": [
    "def swap(lyst, i, j):\n",
    "    \"\"\"Exchanges the items at positions i and j.\"\"\"\n",
    "    # You could say lyst[i], lyst[j] = lyst[j], lyst[i]\n",
    "    # but the following code shows what is really going on\n",
    "    temp = lyst[i]\n",
    "    lyst[i] = lyst[j]\n",
    "    lyst[j] = temp"
   ]
  },
  {
   "cell_type": "code",
   "execution_count": 5,
   "id": "b9eca7d1",
   "metadata": {},
   "outputs": [],
   "source": [
    "def selectionSort(lyst):\n",
    "    i = 0\n",
    "    while i < len(lyst) - 1:\n",
    "        minIndex = i \n",
    "        j = i + 1\n",
    "        while j < len(lyst): \n",
    "            if lyst[j] < lyst[minIndex]:\n",
    "                minIndex = j\n",
    "            j += 1\n",
    "        if minIndex != i:\n",
    "            swap(lyst, minIndex, i)\n",
    "        i += 1"
   ]
  },
  {
   "cell_type": "code",
   "execution_count": 6,
   "id": "17da9954",
   "metadata": {},
   "outputs": [],
   "source": [
    "def bubbleSort(lyst):\n",
    "     n = len(lyst)\n",
    "     while n > 1: # Do n - 1 bubbles\n",
    "         i = 1 # Start each bubble\n",
    "     while i < n:\n",
    "         if lyst[i] < lyst[i - 1]: # Exchange if needed\n",
    "             swap(lyst, i, i - 1)\n",
    "         i += 1\n",
    "     n -= 1"
   ]
  },
  {
   "cell_type": "code",
   "execution_count": 11,
   "id": "f41243bc",
   "metadata": {},
   "outputs": [],
   "source": [
    "def bubbleSortWithTweak(lyst):\n",
    "        n = len(lyst)\n",
    "        while n > 1:\n",
    "            swapped = False\n",
    "            i = 1\n",
    "            while i < n:\n",
    "                if lyst[i] < lyst[i - 1]: # Exchange if needed\n",
    "                    swap(lyst, i, i - 1)\n",
    "                    swapped = True\n",
    "                i += 1\n",
    "            if not swapped: return # Return if no swaps\n",
    "            n -= 1"
   ]
  },
  {
   "cell_type": "code",
   "execution_count": 12,
   "id": "78219e5d",
   "metadata": {},
   "outputs": [],
   "source": [
    "def insertionSort(lyst):\n",
    "    i = 1\n",
    "    while i < len(lyst):\n",
    "        itemToInsert = lyst[i]\n",
    "        j = i - 1\n",
    "        while j >= 0:\n",
    "            if itemToInsert < lyst[j]:\n",
    "                lyst[j + 1] = lyst[j]\n",
    "                j -= 1\n",
    "            else:\n",
    "                break\n",
    "        lyst[j + 1] = itemToInsert\n",
    "        i += 1"
   ]
  },
  {
   "cell_type": "code",
   "execution_count": 63,
   "id": "18eac0cf",
   "metadata": {},
   "outputs": [
    {
     "name": "stdout",
     "output_type": "stream",
     "text": [
      "[2, 15, 10, 8, 3, 2, 9, 5, 13, 1, 19, 4, 4, 21, 12, 11, 3, 19, 15, 11]\n",
      "[1, 2, 2, 3, 3, 4, 4, 5, 8, 9, 10, 11, 11, 12, 13, 15, 15, 19, 19, 21]\n"
     ]
    }
   ],
   "source": [
    "def quicksort(lyst):\n",
    "    quicksortHelper(lyst, 0, len(lyst) - 1)\n",
    "def quicksortHelper(lyst, left, right):\n",
    "    if left < right:\n",
    "        pivotLocation = partition(lyst, left, right)\n",
    "        quicksortHelper(lyst, left, pivotLocation - 1)\n",
    "        quicksortHelper(lyst, pivotLocation + 1, right)\n",
    "def partition(lyst, left, right):\n",
    "    # Find the pivot and exchange it with the last item\n",
    "    middle = (left + right) // 2\n",
    "    pivot = lyst[middle]\n",
    "    lyst[middle] = lyst[right]\n",
    "    lyst[right] = pivot\n",
    "    # Set boundary point to first position\n",
    "    boundary = left\n",
    "    # Move items less than pivot to the left\n",
    "    for index in range(left, right):\n",
    "        if lyst[index] < pivot:\n",
    "            swap(lyst, index, boundary)\n",
    "            boundary += 1\n",
    "    # Exchange the pivot item and the boundary item\n",
    "    swap (lyst, right, boundary)\n",
    "    return boundary\n",
    "# Earlier definition of the swap function goes here\n",
    "import random \n",
    "def main(size = 20, sort = quicksort):\n",
    "    lyst = []\n",
    "    for count in range(size):\n",
    "        lyst.append(random.randint(1, size + 1))\n",
    "    print(lyst)\n",
    "    sort(lyst)\n",
    "    print(lyst)\n",
    "if __name__ == \"__main__\":\n",
    "    main()"
   ]
  },
  {
   "cell_type": "markdown",
   "id": "f3afce20",
   "metadata": {},
   "source": [
    "# Merge Sort"
   ]
  },
  {
   "cell_type": "code",
   "execution_count": 38,
   "id": "4027d099",
   "metadata": {},
   "outputs": [],
   "source": [
    "def mergeSort(lyst):\n",
    "    from arrays import Array\n",
    "def mergeSort(lyst):\n",
    "    # lyst list being sorted\n",
    "    # copyBuffer temporary space needed during merge\n",
    "    copyBuffer = Array(len(lyst))\n",
    "    mergeSortHelper(lyst, copyBuffer, 0, len(lyst) - 1)"
   ]
  },
  {
   "cell_type": "code",
   "execution_count": 39,
   "id": "a9c76321",
   "metadata": {},
   "outputs": [],
   "source": [
    "def mergeSortHelper(lyst, copyBuffer, low, high):\n",
    "    # lyst list being sorted\n",
    "    # copyBuffer temp space needed during merge\n",
    "    # low, high bounds of sublist\n",
    "    # middle midpoint of sublist\n",
    "    if low < high:\n",
    "        middle = (low + high) // 2\n",
    "        mergeSortHelper(lyst, copyBuffer, low, middle)\n",
    "        mergeSortHelper(lyst, copyBuffer, middle + 1, high)\n",
    "        merge(lyst, copyBuffer, low, middle, high)"
   ]
  },
  {
   "cell_type": "code",
   "execution_count": 42,
   "id": "2582e59a",
   "metadata": {},
   "outputs": [],
   "source": [
    "def merge(lyst, copyBuffer, low, middle, high):\n",
    "    # lyst list that is being sorted\n",
    "    # copyBuffer temp space needed during the merge process\n",
    "    # low beginning of first sorted sublist\n",
    "    # middle end of first sorted sublist\n",
    "    # middle + 1 beginning of second sorted sublist\n",
    "    # high end of second sorted sublist\n",
    "    # Initialize i1 and i2 to the first items in each sublist\n",
    "    i1 = low\n",
    "    i2 = middle + 1\n",
    "    # Interleave items from the sublists into the\n",
    "    # copyBuffer in such a way that order is maintained.\n",
    "    for i in range(low, high + 1):\n",
    "        if i1 > middle:\n",
    "            copyBuffer[i] = lyst[i2] # First sublist exhausted\n",
    "            i2 += 1\n",
    "        elif i2 > high:\n",
    "            copyBuffer[i] = lyst[i1] # Second sublist exhausted\n",
    "            i1 += 1\n",
    "        elif lyst[i1] < lyst[i2]:\n",
    "            copyBuffer[i] = lyst[i1] # Item in first sublist <\n",
    "            i1 += 1\n",
    "        else:\n",
    "            copyBuffer[i] = lyst[i2] # Item in second sublist <\n",
    "            i2 += 1\n",
    "    for i in range (low, high + 1): # Copy sorted items back to\n",
    "        lyst[i] = copyBuffer[i] # proper position in lyst"
   ]
  },
  {
   "cell_type": "code",
   "execution_count": 43,
   "id": "7ab1f9c8",
   "metadata": {},
   "outputs": [],
   "source": [
    "def fib(n):\n",
    "    \"\"\"The recursive Fibonacci function.\"\"\"\n",
    "    if n < 3:\n",
    "        return 1\n",
    "    else:\n",
    "        return fib(n - 1) + fib(n - 2)"
   ]
  },
  {
   "cell_type": "code",
   "execution_count": 49,
   "id": "9114dc97",
   "metadata": {},
   "outputs": [],
   "source": [
    "def fib(n, counter):\n",
    "    \"\"\"Count the number of iterations in the Fibonacci\n",
    "    function.\"\"\"\n",
    "    sum = 1\n",
    "    first = 1\n",
    "    second = 1\n",
    "    count = 3\n",
    "    while count <= n:\n",
    "        counter.increment()\n",
    "        sum = first + second\n",
    "        first = second\n",
    "        second = sum\n",
    "        count += 1\n",
    "    return sum"
   ]
  },
  {
   "cell_type": "code",
   "execution_count": 64,
   "id": "c7aaaa02",
   "metadata": {},
   "outputs": [],
   "source": [
    "def fib(n, counter):\n",
    "    \"\"\"Count the number of iterations in the Fibonacci\n",
    "    function.\"\"\"\n",
    "    sum = 1\n",
    "    first = 1\n",
    "    second = 1\n",
    "    count = 3\n",
    "    while count <= n:\n",
    "        counter.increment()\n",
    "        sum = first + second\n",
    "        first = second\n",
    "        second = sum\n",
    "        count += 1\n",
    "    return sum"
   ]
  },
  {
   "cell_type": "code",
   "execution_count": null,
   "id": "e146fdb2",
   "metadata": {},
   "outputs": [],
   "source": []
  }
 ],
 "metadata": {
  "kernelspec": {
   "display_name": "Python 3 (ipykernel)",
   "language": "python",
   "name": "python3"
  },
  "language_info": {
   "codemirror_mode": {
    "name": "ipython",
    "version": 3
   },
   "file_extension": ".py",
   "mimetype": "text/x-python",
   "name": "python",
   "nbconvert_exporter": "python",
   "pygments_lexer": "ipython3",
   "version": "3.9.6"
  }
 },
 "nbformat": 4,
 "nbformat_minor": 5
}
