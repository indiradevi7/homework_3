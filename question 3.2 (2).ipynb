{
 "cells": [
  {
   "cell_type": "markdown",
   "id": "d0adc500",
   "metadata": {},
   "source": [
    "# 3.2"
   ]
  },
  {
   "cell_type": "code",
   "execution_count": 1,
   "id": "a65e3be5",
   "metadata": {},
   "outputs": [
    {
     "name": "stdout",
     "output_type": "stream",
     "text": [
      "Problem Size         Seconds\n",
      "          10           0.000\n"
     ]
    }
   ],
   "source": [
    "\"\"\"\"File: timing1.py\n",
    "Prints the running times for problem sizes that double,\n",
    "using a single loop.\n",
    "\"\"\"\n",
    "import time\n",
    "\n",
    "problemSize = 10000000\n",
    "print(\"%12s%16s\" % (\"Problem Size\", \"Seconds\"))\n",
    "for count in range(5):\n",
    "    start = time.time()\n",
    " # The start of the algorithm\n",
    "    problemSize = 10\n",
    "work = 0\n",
    "for j in range(problemSize):\n",
    "     for k in range(problemSize):\n",
    "        work += 1\n",
    "        work -= 1\n",
    " # The end of the algorithm\n",
    "import time\n",
    "\n",
    "start = time.time()\n",
    "# Your code here\n",
    "elapsed = time.time() - start\n",
    "# Rest of your code\n",
    "print(\"%12d%16.3f\" % (problemSize, elapsed))\n",
    "problemSize *= 2"
   ]
  },
  {
   "cell_type": "markdown",
   "id": "ea20ee96",
   "metadata": {},
   "source": [
    "# The output of the second tester program"
   ]
  },
  {
   "cell_type": "code",
   "execution_count": null,
   "id": "e6ee0f38",
   "metadata": {},
   "outputs": [],
   "source": []
  }
 ],
 "metadata": {
  "kernelspec": {
   "display_name": "Python 3 (ipykernel)",
   "language": "python",
   "name": "python3"
  },
  "language_info": {
   "codemirror_mode": {
    "name": "ipython",
    "version": 3
   },
   "file_extension": ".py",
   "mimetype": "text/x-python",
   "name": "python",
   "nbconvert_exporter": "python",
   "pygments_lexer": "ipython3",
   "version": "3.9.6"
  }
 },
 "nbformat": 4,
 "nbformat_minor": 5
}
