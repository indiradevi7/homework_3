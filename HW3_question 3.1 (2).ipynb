{
 "cells": [
  {
   "cell_type": "markdown",
   "id": "9a5a4eb4",
   "metadata": {},
   "source": [
    "# Measuring the Run Time of an Algorithm"
   ]
  },
  {
   "cell_type": "code",
   "execution_count": 1,
   "id": "c40fa40f",
   "metadata": {},
   "outputs": [
    {
     "name": "stdout",
     "output_type": "stream",
     "text": [
      "Problem Size         Seconds\n",
      "    10000000           1.462\n",
      "    20000000           3.288\n",
      "    40000000           7.330\n",
      "    80000000          19.765\n",
      "   160000000          32.579\n",
      "   320000000          47.958\n",
      "   640000000          82.028\n"
     ]
    }
   ],
   "source": [
    "\"\"\"\"File: timing1.py\n",
    "Prints the running times for problem sizes that double,\n",
    "using a single loop.\n",
    "\"\"\"\n",
    "import time\n",
    "problemSize = 10000000\n",
    "print(\"%12s%16s\" % (\"Problem Size\", \"Seconds\"))\n",
    "for count in range(7):\n",
    "    start = time.time()\n",
    " # The start of the algorithm\n",
    "    work = 1\n",
    "    for x in range(problemSize):\n",
    "        work += 1\n",
    "        work -= 1\n",
    " # The end of the algorithm\n",
    "    elapsed = time.time() - start\n",
    "    print(\"%12d%16.3f\" % (problemSize, elapsed))\n",
    "    problemSize *= 2"
   ]
  },
  {
   "cell_type": "markdown",
   "id": "2f022517",
   "metadata": {},
   "source": [
    "# The output of the tester program"
   ]
  },
  {
   "cell_type": "code",
   "execution_count": null,
   "id": "57d0ceda",
   "metadata": {},
   "outputs": [],
   "source": []
  }
 ],
 "metadata": {
  "kernelspec": {
   "display_name": "Python 3 (ipykernel)",
   "language": "python",
   "name": "python3"
  },
  "language_info": {
   "codemirror_mode": {
    "name": "ipython",
    "version": 3
   },
   "file_extension": ".py",
   "mimetype": "text/x-python",
   "name": "python",
   "nbconvert_exporter": "python",
   "pygments_lexer": "ipython3",
   "version": "3.9.6"
  }
 },
 "nbformat": 4,
 "nbformat_minor": 5
}
